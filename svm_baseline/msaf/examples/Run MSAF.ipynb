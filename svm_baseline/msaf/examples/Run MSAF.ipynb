{
 "cells": [
  {
   "cell_type": "markdown",
   "metadata": {},
   "source": [
    "# Running MSAF #\n",
    "\n",
    "The main MSAF functionality is demonstrated here."
   ]
  },
  {
   "cell_type": "code",
   "execution_count": null,
   "metadata": {
    "collapsed": false
   },
   "outputs": [],
   "source": [
    "from __future__ import print_function\n",
    "import msaf\n",
    "import librosa\n",
    "import seaborn as sns\n",
    "\n",
    "# and IPython.display for audio output\n",
    "import IPython.display\n",
    "\n",
    "# Setup nice plots\n",
    "sns.set(style=\"dark\")\n",
    "%matplotlib inline"
   ]
  },
  {
   "cell_type": "markdown",
   "metadata": {},
   "source": [
    "## Single File Mode ##\n",
    "\n",
    "This mode analyzes one audio file at a time.\n",
    "\n",
    "**Note**: Make sure to download the datasets from https://github.com/urinieto/msaf-data/"
   ]
  },
  {
   "cell_type": "code",
   "execution_count": null,
   "metadata": {
    "collapsed": false
   },
   "outputs": [],
   "source": [
    "# Choose an audio file and listen to it\n",
    "audio_file = \"../datasets/Sargon/audio/01-Sargon-Mindless.mp3\"\n",
    "IPython.display.Audio(filename=audio_file)"
   ]
  },
  {
   "cell_type": "code",
   "execution_count": null,
   "metadata": {
    "collapsed": false
   },
   "outputs": [],
   "source": [
    "# Segment the file using the default MSAF parameters\n",
    "boundaries, labels = msaf.process(audio_file)\n",
    "print(boundaries)"
   ]
  },
  {
   "cell_type": "code",
   "execution_count": null,
   "metadata": {
    "collapsed": false
   },
   "outputs": [],
   "source": [
    "# Sonify boundaries\n",
    "sonified_file = \"my_boundaries.wav\"\n",
    "sr = 44100\n",
    "boundaries, labels = msaf.process(audio_file, sonify_bounds=True, \n",
    "                                  out_bounds=sonified_file, out_sr=sr)\n",
    "\n",
    "# Listen to results\n",
    "audio = librosa.load(sonified_file, sr=sr)[0]\n",
    "IPython.display.Audio(audio, rate=sr)"
   ]
  },
  {
   "cell_type": "markdown",
   "metadata": {},
   "source": [
    "### Using different Algorithms ###\n",
    "\n",
    "MSAF includes multiple algorithms both for boundary retrieval and structural grouping (or labeling). In this section we demonstrate how to try them out.\n",
    "\n",
    "Note: more algorithms are available in [msaf-gpl](https://github.com/urinieto/msaf-gpl)."
   ]
  },
  {
   "cell_type": "code",
   "execution_count": null,
   "metadata": {
    "collapsed": false
   },
   "outputs": [],
   "source": [
    "# First, let's list all the available boundary algorithms\n",
    "print(msaf.get_all_boundary_algorithms())"
   ]
  },
  {
   "cell_type": "code",
   "execution_count": null,
   "metadata": {
    "collapsed": false
   },
   "outputs": [],
   "source": [
    "# Try one of these boundary algorithms and print results\n",
    "boundaries, labels = msaf.process(audio_file, boundaries_id=\"foote\", plot=True)"
   ]
  },
  {
   "cell_type": "code",
   "execution_count": null,
   "metadata": {
    "collapsed": false
   },
   "outputs": [],
   "source": [
    "# Let's check all the structural grouping (label) algorithms available\n",
    "print(msaf.get_all_label_algorithms())"
   ]
  },
  {
   "cell_type": "code",
   "execution_count": null,
   "metadata": {
    "collapsed": false
   },
   "outputs": [],
   "source": [
    "# Try one of these label algorithms\n",
    "boundaries, labels = msaf.process(audio_file, boundaries_id=\"foote\", labels_id=\"fmc2d\")\n",
    "print(boundaries)\n",
    "print(labels)"
   ]
  },
  {
   "cell_type": "code",
   "execution_count": null,
   "metadata": {
    "collapsed": false
   },
   "outputs": [],
   "source": [
    "# If available, you can use previously annotated boundaries and a specific labels algorithm\n",
    "# Set plot = True to plot the results\n",
    "boundaries, labels = msaf.process(audio_file, boundaries_id=\"foote\", \n",
    "                                  labels_id=\"fmc2d\", plot=True)"
   ]
  },
  {
   "cell_type": "markdown",
   "metadata": {},
   "source": [
    "### Using different Features ###\n",
    "\n",
    "Some algorithms allow the input of different type of features (e.g., harmonic, timbral). In this section we show how we can input different features to MSAF."
   ]
  },
  {
   "cell_type": "code",
   "execution_count": null,
   "metadata": {
    "collapsed": false
   },
   "outputs": [],
   "source": [
    "# Let's check what available features are there in MSAF\n",
    "print(msaf.features_registry)"
   ]
  },
  {
   "cell_type": "code",
   "execution_count": null,
   "metadata": {
    "collapsed": false
   },
   "outputs": [],
   "source": [
    "# Segment the file using the Foote method for boundaries, C-NMF method for labels, and MFCC features\n",
    "boundaries, labels = msaf.process(audio_file, feature=\"mfcc\", boundaries_id=\"gt\", \n",
    "                                  labels_id=\"fmc2d\", plot=True)"
   ]
  },
  {
   "cell_type": "markdown",
   "metadata": {},
   "source": [
    "### Using Annotated Beats ###\n",
    "\n",
    "MSAF can calculate the beats or use annotated ones. The annotations should be store in a jams file, for this notebook we used a [simple jams example](http://pythonhosted.org/jams/examples.html). "
   ]
  },
  {
   "cell_type": "code",
   "execution_count": null,
   "metadata": {},
   "outputs": [],
   "source": [
    "sr = 44100\n",
    "hop_length = 1024\n",
    "beats_audio_file = \"../datasets/Sargon/audio/02-Sargon-Shattered World.mp3\"\n",
    "audio = librosa.load(beats_audio_file, sr=sr)[0]\n",
    "audio_harmonic, audio_percussive = librosa.effects.hpss(audio)\n",
    "\n",
    "# Compute beats\n",
    "tempo, frames = librosa.beat.beat_track(y=audio_percussive, \n",
    "                                        sr=sr, hop_length=hop_length)\n",
    "\n",
    "# To times\n",
    "beat_times = librosa.frames_to_time(frames, sr=sr, \n",
    "                                    hop_length=hop_length)"
   ]
  },
  {
   "cell_type": "code",
   "execution_count": null,
   "metadata": {},
   "outputs": [],
   "source": [
    "#  We will now save or beats to a JAMS file.\n",
    "import jams\n",
    "\n",
    "jam = jams.JAMS()\n",
    "jam.file_metadata.duration = len(audio_file)/sr\n",
    "beat_a = jams.Annotation(namespace='beat')\n",
    "beat_a.annotation_metadata = jams.AnnotationMetadata(data_source='librosa beat tracker')\n",
    "\n",
    "#  Add beat timings to the annotation record.\n",
    "#  The beat namespace does not require value or confidence fields,\n",
    "#  so we can leave those blank.\n",
    "for t in beat_times:\n",
    "    beat_a.append(time=t, duration=0.0)\n",
    "\n",
    "#  Store the new annotation in the jam file. This need to be located on the references folder\n",
    "#  and be named like the audio file except for the jams extension.\n",
    "jam.annotations.append(beat_a)\n",
    "jam.save('../datasets/Sargon/references/01-Sargon-Mindless.jams')"
   ]
  },
  {
   "cell_type": "code",
   "execution_count": null,
   "metadata": {},
   "outputs": [],
   "source": [
    "#  Using the annotated beats then is straight forward.\n",
    "#  Just be sure you don't have a temporary features file in the directory.\n",
    "\n",
    "boundaries, labels = msaf.process(audio_file, boundaries_id=\"foote\", \n",
    "                                  annot_beats=True, labels_id=\"fmc2d\", plot=True)"
   ]
  },
  {
   "cell_type": "markdown",
   "metadata": {},
   "source": [
    "### Evaluate Results ###\n",
    "\n",
    "The results can be evaluated as long as there is an existing file containing reference annotations. The results are stored in a pandas DataFrame. MSAF has to run these algorithms (using `msaf.process` described above) before being able to evaluate its results."
   ]
  },
  {
   "cell_type": "code",
   "execution_count": null,
   "metadata": {
    "collapsed": false
   },
   "outputs": [],
   "source": [
    "# Evaluate the results. It returns a pandas data frame.\n",
    "evaluations = msaf.eval.process(audio_file, boundaries_id=\"foote\", labels_id=\"fmc2d\")\n",
    "IPython.display.display(evaluations)"
   ]
  },
  {
   "cell_type": "markdown",
   "metadata": {},
   "source": [
    "### Explore Algorithm Parameters ###\n",
    "\n",
    "Now let's modify the configuration of one of the files, and modify it to see how different the results are.\n",
    "We will use Widgets, which will become handy here."
   ]
  },
  {
   "cell_type": "code",
   "execution_count": null,
   "metadata": {
    "collapsed": false
   },
   "outputs": [],
   "source": [
    "# First, check which are foote's algorithm parameters:\n",
    "print(msaf.algorithms.foote.config)"
   ]
  },
  {
   "cell_type": "code",
   "execution_count": null,
   "metadata": {
    "collapsed": false
   },
   "outputs": [],
   "source": [
    "# play around with IPython.Widgets\n",
    "from ipywidgets import interact\n",
    "\n",
    "# Obtain the default configuration\n",
    "bid = \"foote\"  # Boundaries ID\n",
    "lid = None     # Labels ID\n",
    "feature = \"pcp\"\n",
    "config = msaf.io.get_configuration(feature, annot_beats=False, framesync=False, \n",
    "                                   boundaries_id=bid, labels_id=lid)\n",
    "\n",
    "# Sweep M_gaussian parameters\n",
    "@interact(M_gaussian=(50, 500, 25))\n",
    "def _run_msaf(M_gaussian):\n",
    "    # Set the configuration\n",
    "    config[\"M_gaussian\"] = M_gaussian\n",
    "    \n",
    "    # Segment the file using the Foote method, and Pitch Class Profiles for the features\n",
    "    results = msaf.process(audio_file, feature=feature, boundaries_id=bid, \n",
    "                           config=config, plot=True)\n",
    "\n",
    "    # Evaluate the results. It returns a pandas data frame.\n",
    "    evaluations = msaf.eval.process(audio_file, feature=feature, boundaries_id=bid,\n",
    "                                    config=config)\n",
    "    IPython.display.display(evaluations)"
   ]
  },
  {
   "cell_type": "markdown",
   "metadata": {
    "collapsed": true
   },
   "source": [
    "## Collection Mode ##\n",
    "\n",
    "MSAF is able to run and evaluate mutliple files using multi-threading. In this section we show this functionality."
   ]
  },
  {
   "cell_type": "code",
   "execution_count": null,
   "metadata": {
    "collapsed": false
   },
   "outputs": [],
   "source": [
    "dataset = \"../datasets/Sargon/\"\n",
    "results = msaf.process(dataset, n_jobs=1, boundaries_id=\"foote\")"
   ]
  },
  {
   "cell_type": "code",
   "execution_count": null,
   "metadata": {
    "collapsed": false
   },
   "outputs": [],
   "source": [
    "# Evaluate in collection mode\n",
    "evaluations = msaf.eval.process(dataset, n_jobs=4, boundaries_id=\"foote\")\n",
    "IPython.display.display(evaluations)\n",
    "IPython.display.display(evaluations.mean())"
   ]
  }
 ],
 "metadata": {
  "kernelspec": {
   "display_name": "Python 2",
   "language": "python",
   "name": "python2"
  },
  "language_info": {
   "codemirror_mode": {
    "name": "ipython",
    "version": 2
   },
   "file_extension": ".py",
   "mimetype": "text/x-python",
   "name": "python",
   "nbconvert_exporter": "python",
   "pygments_lexer": "ipython2",
   "version": "2.7.13"
  }
 },
 "nbformat": 4,
 "nbformat_minor": 0
}
